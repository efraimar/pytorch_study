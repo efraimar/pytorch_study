{
  "nbformat": 4,
  "nbformat_minor": 0,
  "metadata": {
    "colab": {
      "provenance": [],
      "authorship_tag": "ABX9TyM7KEdpT6ToS2HG3SSvr796",
      "include_colab_link": true
    },
    "kernelspec": {
      "name": "python3",
      "display_name": "Python 3"
    },
    "language_info": {
      "name": "python"
    }
  },
  "cells": [
    {
      "cell_type": "markdown",
      "metadata": {
        "id": "view-in-github",
        "colab_type": "text"
      },
      "source": [
        "<a href=\"https://colab.research.google.com/github/efraimar/pytorch_study/blob/main/Autograd_1.ipynb\" target=\"_parent\"><img src=\"https://colab.research.google.com/assets/colab-badge.svg\" alt=\"Open In Colab\"/></a>"
      ]
    },
    {
      "cell_type": "code",
      "execution_count": 2,
      "metadata": {
        "id": "SeJeK0EPQFip"
      },
      "outputs": [],
      "source": [
        "import torch\n",
        "import numpy as np"
      ]
    },
    {
      "cell_type": "code",
      "source": [
        "\n",
        "x = torch.tensor([1.],requires_grad=True)\n",
        "v = 4 * x\n",
        "z = v - 1\n",
        "w = z ** 2\n",
        "print(x)\n",
        "print(v)\n",
        "print(z)\n",
        "print(w)"
      ],
      "metadata": {
        "colab": {
          "base_uri": "https://localhost:8080/"
        },
        "id": "BeEhKfp3QqQx",
        "outputId": "e0fbc905-e5d8-4210-ffa5-6151facd7192"
      },
      "execution_count": 6,
      "outputs": [
        {
          "output_type": "stream",
          "name": "stdout",
          "text": [
            "tensor([1.], requires_grad=True)\n",
            "tensor([4.], grad_fn=<MulBackward0>)\n",
            "tensor([3.], grad_fn=<SubBackward0>)\n",
            "tensor([9.], grad_fn=<PowBackward0>)\n"
          ]
        }
      ]
    },
    {
      "cell_type": "code",
      "source": [
        "x = torch.tensor([1.],requires_grad=True)\n",
        "l = (4*x-1)**2\n",
        "print(l)\n",
        "l.backward()\n",
        "print(x.grad)"
      ],
      "metadata": {
        "colab": {
          "base_uri": "https://localhost:8080/"
        },
        "id": "1B-ARkx0RTb5",
        "outputId": "3393da41-5a13-42fe-b868-7a82d790fcd9"
      },
      "execution_count": 10,
      "outputs": [
        {
          "output_type": "stream",
          "name": "stdout",
          "text": [
            "tensor([9.], grad_fn=<PowBackward0>)\n",
            "tensor([24.])\n"
          ]
        }
      ]
    },
    {
      "cell_type": "code",
      "source": [
        "x = torch.tensor([1.],requires_grad = True)\n",
        "z = torch.tensor([4.],requires_grad = True)\n",
        "w = torch.tensor([1.])\n",
        "loss = (z * x - w)**2\n",
        "print(f\"loss:{loss} \")\n",
        "loss.backward()\n",
        "print(f\"loss x=1: \\n{x.grad}\\n\")\n",
        "print(f\"loss z=4:\\n{z.grad}\")\n"
      ],
      "metadata": {
        "colab": {
          "base_uri": "https://localhost:8080/"
        },
        "id": "ETvjohk_U4-p",
        "outputId": "ed4b8341-d245-464c-b599-6f4e7a90c667"
      },
      "execution_count": 3,
      "outputs": [
        {
          "output_type": "stream",
          "name": "stdout",
          "text": [
            "loss:tensor([9.], grad_fn=<PowBackward0>) \n",
            "loss x=1: \n",
            "tensor([24.])\n",
            "\n",
            "loss z=4:\n",
            "tensor([6.])\n"
          ]
        }
      ]
    },
    {
      "cell_type": "markdown",
      "source": [
        "\n",
        "\n",
        "1.requires_grad()=True מבצע חישוב גרדיאנט אוטומטי עבור כל פונקציה המכילה  backward\n",
        "\n",
        "\n",
        "2.   \n",
        "\n"
      ],
      "metadata": {
        "id": "0jYx4T6si1QE"
      }
    }
  ]
}